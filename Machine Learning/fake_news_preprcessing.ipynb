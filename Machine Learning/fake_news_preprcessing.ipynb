{
 "cells": [
  {
   "cell_type": "code",
   "execution_count": 1,
   "metadata": {},
   "outputs": [],
   "source": [
    "import random\n",
    "import re\n",
    "import pickle\n",
    "import pandas as pd\n",
    "import numpy as np\n",
    "import matplotlib.pyplot as plt\n",
    "from sklearn.model_selection import train_test_split\n",
    "import nltk\n",
    "from nltk.corpus import stopwords\n",
    "from sklearn.feature_extraction.text import TfidfVectorizer\n",
    "%matplotlib inline"
   ]
  },
  {
   "cell_type": "code",
   "execution_count": 2,
   "metadata": {},
   "outputs": [],
   "source": [
    "#nltk.download('stopwords')\n",
    "#nltk.download('wordnet')"
   ]
  },
  {
   "cell_type": "code",
   "execution_count": 3,
   "metadata": {},
   "outputs": [],
   "source": [
    "#path_to_dataset = './fake_news_dataset.csv'\n",
    "#path_to_dataset = '/Users/tithighosh/Library/Application Support/AirDroid/Downloads/Fake news_/datasets/fake_news_dataset.csv'\n",
    "path_to_dataset = 'https://drive.google.com/file/d/1IOY0q_7Mnqb6_BmoQP0BRdOlmtqEUZd9/view?usp=sharing' "
   ]
  },
  {
   "cell_type": "code",
   "execution_count": 4,
   "metadata": {},
   "outputs": [],
   "source": [
    "data = pd.read_csv(path_to_dataset, index_col=0)"
   ]
  },
  {
   "cell_type": "code",
   "execution_count": 5,
   "metadata": {},
   "outputs": [
    {
     "data": {
      "text/html": [
       "<div>\n",
       "<style scoped>\n",
       "    .dataframe tbody tr th:only-of-type {\n",
       "        vertical-align: middle;\n",
       "    }\n",
       "\n",
       "    .dataframe tbody tr th {\n",
       "        vertical-align: top;\n",
       "    }\n",
       "\n",
       "    .dataframe thead th {\n",
       "        text-align: right;\n",
       "    }\n",
       "</style>\n",
       "<table border=\"1\" class=\"dataframe\">\n",
       "  <thead>\n",
       "    <tr style=\"text-align: right;\">\n",
       "      <th></th>\n",
       "      <th>date</th>\n",
       "      <th>day</th>\n",
       "      <th>flag</th>\n",
       "      <th>link</th>\n",
       "      <th>month</th>\n",
       "      <th>place</th>\n",
       "      <th>publisher</th>\n",
       "      <th>year</th>\n",
       "      <th>Text</th>\n",
       "    </tr>\n",
       "  </thead>\n",
       "  <tbody>\n",
       "    <tr>\n",
       "      <th>0</th>\n",
       "      <td>2018/03/29</td>\n",
       "      <td>29.0</td>\n",
       "      <td>0</td>\n",
       "      <td>http://timesofindia.indiatimes.com//city/nagpu...</td>\n",
       "      <td>3.0</td>\n",
       "      <td>nagpur</td>\n",
       "      <td>TOI</td>\n",
       "      <td>2018.0</td>\n",
       "      <td>NAGPUR: Villagers in Naxalite infested Gadchir...</td>\n",
       "    </tr>\n",
       "    <tr>\n",
       "      <th>1</th>\n",
       "      <td>2017/01/24</td>\n",
       "      <td>24.0</td>\n",
       "      <td>0</td>\n",
       "      <td>http://timesofindia.indiatimes.com//india/jk-g...</td>\n",
       "      <td>1.0</td>\n",
       "      <td>NaN</td>\n",
       "      <td>TOI</td>\n",
       "      <td>2017.0</td>\n",
       "      <td>NEW DELHI: The Jammu &amp; Kashmir government has ...</td>\n",
       "    </tr>\n",
       "    <tr>\n",
       "      <th>2</th>\n",
       "      <td>2017/01/31</td>\n",
       "      <td>31.0</td>\n",
       "      <td>0</td>\n",
       "      <td>http://timesofindia.indiatimes.com//city/kolha...</td>\n",
       "      <td>1.0</td>\n",
       "      <td>kolhapur</td>\n",
       "      <td>TOI</td>\n",
       "      <td>2017.0</td>\n",
       "      <td>KOLHAPUR: Robbers continue to give sleepless n...</td>\n",
       "    </tr>\n",
       "    <tr>\n",
       "      <th>3</th>\n",
       "      <td>2018/03/26</td>\n",
       "      <td>26.0</td>\n",
       "      <td>0</td>\n",
       "      <td>http://timesofindia.indiatimes.com//city/hubba...</td>\n",
       "      <td>3.0</td>\n",
       "      <td>hubballi</td>\n",
       "      <td>TOI</td>\n",
       "      <td>2018.0</td>\n",
       "      <td>HUBBALLI: An iconic building, which is propose...</td>\n",
       "    </tr>\n",
       "    <tr>\n",
       "      <th>4</th>\n",
       "      <td>2017/02/20</td>\n",
       "      <td>20.0</td>\n",
       "      <td>0</td>\n",
       "      <td>http://timesofindia.indiatimes.com//city/mumba...</td>\n",
       "      <td>2.0</td>\n",
       "      <td>mumbai</td>\n",
       "      <td>TOI</td>\n",
       "      <td>2017.0</td>\n",
       "      <td>MUMBAI: MNS chief   said that the   would lead...</td>\n",
       "    </tr>\n",
       "  </tbody>\n",
       "</table>\n",
       "</div>"
      ],
      "text/plain": [
       "         date   day  flag                                               link  \\\n",
       "0  2018/03/29  29.0     0  http://timesofindia.indiatimes.com//city/nagpu...   \n",
       "1  2017/01/24  24.0     0  http://timesofindia.indiatimes.com//india/jk-g...   \n",
       "2  2017/01/31  31.0     0  http://timesofindia.indiatimes.com//city/kolha...   \n",
       "3  2018/03/26  26.0     0  http://timesofindia.indiatimes.com//city/hubba...   \n",
       "4  2017/02/20  20.0     0  http://timesofindia.indiatimes.com//city/mumba...   \n",
       "\n",
       "   month     place publisher    year  \\\n",
       "0    3.0    nagpur       TOI  2018.0   \n",
       "1    1.0       NaN       TOI  2017.0   \n",
       "2    1.0  kolhapur       TOI  2017.0   \n",
       "3    3.0  hubballi       TOI  2018.0   \n",
       "4    2.0    mumbai       TOI  2017.0   \n",
       "\n",
       "                                                Text  \n",
       "0  NAGPUR: Villagers in Naxalite infested Gadchir...  \n",
       "1  NEW DELHI: The Jammu & Kashmir government has ...  \n",
       "2  KOLHAPUR: Robbers continue to give sleepless n...  \n",
       "3  HUBBALLI: An iconic building, which is propose...  \n",
       "4  MUMBAI: MNS chief   said that the   would lead...  "
      ]
     },
     "execution_count": 5,
     "metadata": {},
     "output_type": "execute_result"
    }
   ],
   "source": [
    "data.head()"
   ]
  },
  {
   "cell_type": "code",
   "execution_count": 6,
   "metadata": {},
   "outputs": [
    {
     "data": {
      "text/html": [
       "<div>\n",
       "<style scoped>\n",
       "    .dataframe tbody tr th:only-of-type {\n",
       "        vertical-align: middle;\n",
       "    }\n",
       "\n",
       "    .dataframe tbody tr th {\n",
       "        vertical-align: top;\n",
       "    }\n",
       "\n",
       "    .dataframe thead th {\n",
       "        text-align: right;\n",
       "    }\n",
       "</style>\n",
       "<table border=\"1\" class=\"dataframe\">\n",
       "  <thead>\n",
       "    <tr style=\"text-align: right;\">\n",
       "      <th></th>\n",
       "      <th>date</th>\n",
       "      <th>day</th>\n",
       "      <th>link</th>\n",
       "      <th>month</th>\n",
       "      <th>place</th>\n",
       "      <th>publisher</th>\n",
       "      <th>year</th>\n",
       "      <th>Text</th>\n",
       "    </tr>\n",
       "    <tr>\n",
       "      <th>flag</th>\n",
       "      <th></th>\n",
       "      <th></th>\n",
       "      <th></th>\n",
       "      <th></th>\n",
       "      <th></th>\n",
       "      <th></th>\n",
       "      <th></th>\n",
       "      <th></th>\n",
       "    </tr>\n",
       "  </thead>\n",
       "  <tbody>\n",
       "    <tr>\n",
       "      <th>0</th>\n",
       "      <td>209321</td>\n",
       "      <td>209320</td>\n",
       "      <td>209321</td>\n",
       "      <td>209320</td>\n",
       "      <td>145796</td>\n",
       "      <td>209321</td>\n",
       "      <td>209320</td>\n",
       "      <td>209321</td>\n",
       "    </tr>\n",
       "    <tr>\n",
       "      <th>1</th>\n",
       "      <td>805</td>\n",
       "      <td>805</td>\n",
       "      <td>805</td>\n",
       "      <td>805</td>\n",
       "      <td>617</td>\n",
       "      <td>805</td>\n",
       "      <td>805</td>\n",
       "      <td>805</td>\n",
       "    </tr>\n",
       "  </tbody>\n",
       "</table>\n",
       "</div>"
      ],
      "text/plain": [
       "        date     day    link   month   place  publisher    year    Text\n",
       "flag                                                                   \n",
       "0     209321  209320  209321  209320  145796     209321  209320  209321\n",
       "1        805     805     805     805     617        805     805     805"
      ]
     },
     "execution_count": 6,
     "metadata": {},
     "output_type": "execute_result"
    }
   ],
   "source": [
    "data.groupby('flag').count()"
   ]
  },
  {
   "cell_type": "markdown",
   "metadata": {},
   "source": [
    "## Removing Skewness"
   ]
  },
  {
   "cell_type": "code",
   "execution_count": 7,
   "metadata": {},
   "outputs": [],
   "source": [
    "zero_indices = data[data['flag']==0].index"
   ]
  },
  {
   "cell_type": "code",
   "execution_count": 8,
   "metadata": {},
   "outputs": [],
   "source": [
    "zero_indices_to_remove = random.sample(list(zero_indices), 208321)"
   ]
  },
  {
   "cell_type": "code",
   "execution_count": 9,
   "metadata": {},
   "outputs": [
    {
     "data": {
      "text/plain": [
       "208321"
      ]
     },
     "execution_count": 9,
     "metadata": {},
     "output_type": "execute_result"
    }
   ],
   "source": [
    "len(set(zero_indices_to_remove))"
   ]
  },
  {
   "cell_type": "code",
   "execution_count": 10,
   "metadata": {},
   "outputs": [],
   "source": [
    "zero_indices_to_remove = dict(zip(zero_indices_to_remove, ['']*208321))"
   ]
  },
  {
   "cell_type": "code",
   "execution_count": 11,
   "metadata": {},
   "outputs": [],
   "source": [
    "temp = pd.DataFrame(columns=data.columns)"
   ]
  },
  {
   "cell_type": "code",
   "execution_count": 12,
   "metadata": {},
   "outputs": [],
   "source": [
    "for lab, row in data.iterrows():\n",
    "     \n",
    "    if lab not in zero_indices_to_remove:\n",
    "        temp.loc[lab, :] = data.loc[lab, :]"
   ]
  },
  {
   "cell_type": "code",
   "execution_count": 13,
   "metadata": {},
   "outputs": [
    {
     "data": {
      "text/html": [
       "<div>\n",
       "<style scoped>\n",
       "    .dataframe tbody tr th:only-of-type {\n",
       "        vertical-align: middle;\n",
       "    }\n",
       "\n",
       "    .dataframe tbody tr th {\n",
       "        vertical-align: top;\n",
       "    }\n",
       "\n",
       "    .dataframe thead th {\n",
       "        text-align: right;\n",
       "    }\n",
       "</style>\n",
       "<table border=\"1\" class=\"dataframe\">\n",
       "  <thead>\n",
       "    <tr style=\"text-align: right;\">\n",
       "      <th></th>\n",
       "      <th>date</th>\n",
       "      <th>day</th>\n",
       "      <th>flag</th>\n",
       "      <th>link</th>\n",
       "      <th>month</th>\n",
       "      <th>place</th>\n",
       "      <th>publisher</th>\n",
       "      <th>year</th>\n",
       "      <th>Text</th>\n",
       "    </tr>\n",
       "  </thead>\n",
       "  <tbody>\n",
       "    <tr>\n",
       "      <th>count</th>\n",
       "      <td>1805</td>\n",
       "      <td>1805.0</td>\n",
       "      <td>1805</td>\n",
       "      <td>1805</td>\n",
       "      <td>1805.0</td>\n",
       "      <td>1331</td>\n",
       "      <td>1805</td>\n",
       "      <td>1805.0</td>\n",
       "      <td>1805</td>\n",
       "    </tr>\n",
       "    <tr>\n",
       "      <th>unique</th>\n",
       "      <td>330</td>\n",
       "      <td>31.0</td>\n",
       "      <td>2</td>\n",
       "      <td>1805</td>\n",
       "      <td>10.0</td>\n",
       "      <td>175</td>\n",
       "      <td>1</td>\n",
       "      <td>2.0</td>\n",
       "      <td>1768</td>\n",
       "    </tr>\n",
       "    <tr>\n",
       "      <th>top</th>\n",
       "      <td>2018/03/30</td>\n",
       "      <td>3.0</td>\n",
       "      <td>0</td>\n",
       "      <td>http://timesofindia.indiatimes.com//life-style...</td>\n",
       "      <td>3.0</td>\n",
       "      <td>mumbai</td>\n",
       "      <td>TOI</td>\n",
       "      <td>2017.0</td>\n",
       "      <td>NEW DELHI: Police have busted a pan-India   op...</td>\n",
       "    </tr>\n",
       "    <tr>\n",
       "      <th>freq</th>\n",
       "      <td>16</td>\n",
       "      <td>74.0</td>\n",
       "      <td>1000</td>\n",
       "      <td>1</td>\n",
       "      <td>380.0</td>\n",
       "      <td>127</td>\n",
       "      <td>1805</td>\n",
       "      <td>958.0</td>\n",
       "      <td>3</td>\n",
       "    </tr>\n",
       "  </tbody>\n",
       "</table>\n",
       "</div>"
      ],
      "text/plain": [
       "              date     day  flag  \\\n",
       "count         1805  1805.0  1805   \n",
       "unique         330    31.0     2   \n",
       "top     2018/03/30     3.0     0   \n",
       "freq            16    74.0  1000   \n",
       "\n",
       "                                                     link   month   place  \\\n",
       "count                                                1805  1805.0    1331   \n",
       "unique                                               1805    10.0     175   \n",
       "top     http://timesofindia.indiatimes.com//life-style...     3.0  mumbai   \n",
       "freq                                                    1   380.0     127   \n",
       "\n",
       "       publisher    year                                               Text  \n",
       "count       1805  1805.0                                               1805  \n",
       "unique         1     2.0                                               1768  \n",
       "top          TOI  2017.0  NEW DELHI: Police have busted a pan-India   op...  \n",
       "freq        1805   958.0                                                  3  "
      ]
     },
     "execution_count": 13,
     "metadata": {},
     "output_type": "execute_result"
    }
   ],
   "source": [
    "temp.describe(include='all')"
   ]
  },
  {
   "cell_type": "code",
   "execution_count": 14,
   "metadata": {},
   "outputs": [],
   "source": [
    "data = temp.copy()"
   ]
  },
  {
   "cell_type": "code",
   "execution_count": 15,
   "metadata": {},
   "outputs": [
    {
     "data": {
      "text/plain": [
       "0    1000\n",
       "1     805\n",
       "Name: flag, dtype: int64"
      ]
     },
     "execution_count": 15,
     "metadata": {},
     "output_type": "execute_result"
    }
   ],
   "source": [
    "data['flag'].value_counts()"
   ]
  },
  {
   "cell_type": "code",
   "execution_count": 16,
   "metadata": {},
   "outputs": [
    {
     "data": {
      "text/plain": [
       "<BarContainer object of 2 artists>"
      ]
     },
     "execution_count": 16,
     "metadata": {},
     "output_type": "execute_result"
    },
    {
     "data": {
      "image/png": "[encoded data removed]",
      "text/plain": [
       "<Figure size 432x288 with 1 Axes>"
      ]
     },
     "metadata": {
      "needs_background": "light"
     },
     "output_type": "display_data"
    }
   ],
   "source": [
    "plt.bar((0,1), data['flag'].value_counts())"
   ]
  },
  {
   "cell_type": "markdown",
   "metadata": {},
   "source": [
    "## Validating Data"
   ]
  },
  {
   "cell_type": "code",
   "execution_count": 17,
   "metadata": {},
   "outputs": [
    {
     "data": {
      "text/plain": [
       "array([3.0, 27.0, 17.0, 30.0, 18.0, 12.0, 25.0, 19.0, 4.0, 9.0, 26.0,\n",
       "       10.0, 16.0, 31.0, 1.0, 22.0, 13.0, 29.0, 14.0, 20.0, 6.0, 28.0,\n",
       "       23.0, 2.0, 21.0, 24.0, 5.0, 8.0, 15.0, 7.0, 11.0], dtype=object)"
      ]
     },
     "execution_count": 17,
     "metadata": {},
     "output_type": "execute_result"
    }
   ],
   "source": [
    "data['day'].unique()"
   ]
  },
  {
   "cell_type": "code",
   "execution_count": 18,
   "metadata": {},
   "outputs": [
    {
     "data": {
      "text/plain": [
       "array([2.0, 1.0, 4.0, 7.0, 9.0, 6.0, 3.0, 5.0, 10.0, 8.0], dtype=object)"
      ]
     },
     "execution_count": 18,
     "metadata": {},
     "output_type": "execute_result"
    }
   ],
   "source": [
    "data['month'].unique()"
   ]
  },
  {
   "cell_type": "code",
   "execution_count": 19,
   "metadata": {},
   "outputs": [
    {
     "data": {
      "text/plain": [
       "array([2017.0, 2018.0], dtype=object)"
      ]
     },
     "execution_count": 19,
     "metadata": {},
     "output_type": "execute_result"
    }
   ],
   "source": [
    "data['year'].unique()"
   ]
  },
  {
   "cell_type": "markdown",
   "metadata": {},
   "source": [
    "## Missing Values"
   ]
  },
  {
   "cell_type": "code",
   "execution_count": 20,
   "metadata": {},
   "outputs": [
    {
     "data": {
      "text/plain": [
       "date           0\n",
       "day            0\n",
       "flag           0\n",
       "link           0\n",
       "month          0\n",
       "place        474\n",
       "publisher      0\n",
       "year           0\n",
       "Text           0\n",
       "dtype: int64"
      ]
     },
     "execution_count": 20,
     "metadata": {},
     "output_type": "execute_result"
    }
   ],
   "source": [
    "data.isnull().sum()"
   ]
  },
  {
   "cell_type": "code",
   "execution_count": 21,
   "metadata": {},
   "outputs": [
    {
     "data": {
      "text/plain": [
       "0.2626038781163435"
      ]
     },
     "execution_count": 21,
     "metadata": {},
     "output_type": "execute_result"
    }
   ],
   "source": [
    "data['place'].isnull().sum()/data.shape[0]"
   ]
  },
  {
   "cell_type": "markdown",
   "metadata": {},
   "source": [
    "'place' has 30% missing values. So this attribute is dropped."
   ]
  },
  {
   "cell_type": "code",
   "execution_count": 22,
   "metadata": {},
   "outputs": [],
   "source": [
    "data.drop('place', axis=1, inplace=True)"
   ]
  },
  {
   "cell_type": "markdown",
   "metadata": {},
   "source": [
    "'day' and 'year' have 1 missing value. So these observations are dropped only."
   ]
  },
  {
   "cell_type": "code",
   "execution_count": 23,
   "metadata": {},
   "outputs": [],
   "source": [
    "data.dropna(axis=0, inplace=True)"
   ]
  },
  {
   "cell_type": "code",
   "execution_count": 24,
   "metadata": {},
   "outputs": [
    {
     "data": {
      "text/plain": [
       "date         0\n",
       "day          0\n",
       "flag         0\n",
       "link         0\n",
       "month        0\n",
       "publisher    0\n",
       "year         0\n",
       "Text         0\n",
       "dtype: int64"
      ]
     },
     "execution_count": 24,
     "metadata": {},
     "output_type": "execute_result"
    }
   ],
   "source": [
    "data.isnull().sum()"
   ]
  },
  {
   "cell_type": "markdown",
   "metadata": {},
   "source": [
    "## Rearranging Columns"
   ]
  },
  {
   "cell_type": "code",
   "execution_count": 25,
   "metadata": {},
   "outputs": [
    {
     "data": {
      "text/plain": [
       "Index(['date', 'day', 'flag', 'link', 'month', 'publisher', 'year', 'Text'], dtype='object')"
      ]
     },
     "execution_count": 25,
     "metadata": {},
     "output_type": "execute_result"
    }
   ],
   "source": [
    "data.columns"
   ]
  },
  {
   "cell_type": "code",
   "execution_count": 26,
   "metadata": {},
   "outputs": [],
   "source": [
    "arranged_data = data[['Text', 'date', 'day', 'link', 'month', 'publisher', 'year', 'flag']]"
   ]
  },
  {
   "cell_type": "code",
   "execution_count": 27,
   "metadata": {},
   "outputs": [
    {
     "data": {
      "text/html": [
       "<div>\n",
       "<style scoped>\n",
       "    .dataframe tbody tr th:only-of-type {\n",
       "        vertical-align: middle;\n",
       "    }\n",
       "\n",
       "    .dataframe tbody tr th {\n",
       "        vertical-align: top;\n",
       "    }\n",
       "\n",
       "    .dataframe thead th {\n",
       "        text-align: right;\n",
       "    }\n",
       "</style>\n",
       "<table border=\"1\" class=\"dataframe\">\n",
       "  <thead>\n",
       "    <tr style=\"text-align: right;\">\n",
       "      <th></th>\n",
       "      <th>Text</th>\n",
       "      <th>date</th>\n",
       "      <th>day</th>\n",
       "      <th>link</th>\n",
       "      <th>month</th>\n",
       "      <th>publisher</th>\n",
       "      <th>year</th>\n",
       "      <th>flag</th>\n",
       "    </tr>\n",
       "  </thead>\n",
       "  <tbody>\n",
       "    <tr>\n",
       "      <th>83</th>\n",
       "      <td>Yesterday, a young man was murdered in broadli...</td>\n",
       "      <td>2017/02/03</td>\n",
       "      <td>3</td>\n",
       "      <td>http://timesofindia.indiatimes.com//city/nagpu...</td>\n",
       "      <td>2</td>\n",
       "      <td>TOI</td>\n",
       "      <td>2017</td>\n",
       "      <td>1</td>\n",
       "    </tr>\n",
       "    <tr>\n",
       "      <th>104</th>\n",
       "      <td>NEW DELHI: The   has set up a   for its soldie...</td>\n",
       "      <td>2017/01/27</td>\n",
       "      <td>27</td>\n",
       "      <td>http://timesofindia.indiatimes.com//india/army...</td>\n",
       "      <td>1</td>\n",
       "      <td>TOI</td>\n",
       "      <td>2017</td>\n",
       "      <td>1</td>\n",
       "    </tr>\n",
       "    <tr>\n",
       "      <th>601</th>\n",
       "      <td>BERHAMPUR: An anti-social allegedly involved i...</td>\n",
       "      <td>2017/02/17</td>\n",
       "      <td>17</td>\n",
       "      <td>http://timesofindia.indiatimes.com//city/cutta...</td>\n",
       "      <td>2</td>\n",
       "      <td>TOI</td>\n",
       "      <td>2017</td>\n",
       "      <td>0</td>\n",
       "    </tr>\n",
       "    <tr>\n",
       "      <th>884</th>\n",
       "      <td>PATNA: One Akash Kumar (19) allegedly committe...</td>\n",
       "      <td>2018/01/30</td>\n",
       "      <td>30</td>\n",
       "      <td>http://timesofindia.indiatimes.com//city/patna...</td>\n",
       "      <td>1</td>\n",
       "      <td>TOI</td>\n",
       "      <td>2018</td>\n",
       "      <td>1</td>\n",
       "    </tr>\n",
       "    <tr>\n",
       "      <th>1023</th>\n",
       "      <td>GREATER NOIDA:   being taught in universities ...</td>\n",
       "      <td>2018/04/18</td>\n",
       "      <td>18</td>\n",
       "      <td>http://timesofindia.indiatimes.com//city/noida...</td>\n",
       "      <td>4</td>\n",
       "      <td>TOI</td>\n",
       "      <td>2018</td>\n",
       "      <td>0</td>\n",
       "    </tr>\n",
       "  </tbody>\n",
       "</table>\n",
       "</div>"
      ],
      "text/plain": [
       "                                                   Text        date day  \\\n",
       "83    Yesterday, a young man was murdered in broadli...  2017/02/03   3   \n",
       "104   NEW DELHI: The   has set up a   for its soldie...  2017/01/27  27   \n",
       "601   BERHAMPUR: An anti-social allegedly involved i...  2017/02/17  17   \n",
       "884   PATNA: One Akash Kumar (19) allegedly committe...  2018/01/30  30   \n",
       "1023  GREATER NOIDA:   being taught in universities ...  2018/04/18  18   \n",
       "\n",
       "                                                   link month publisher  year  \\\n",
       "83    http://timesofindia.indiatimes.com//city/nagpu...     2       TOI  2017   \n",
       "104   http://timesofindia.indiatimes.com//india/army...     1       TOI  2017   \n",
       "601   http://timesofindia.indiatimes.com//city/cutta...     2       TOI  2017   \n",
       "884   http://timesofindia.indiatimes.com//city/patna...     1       TOI  2018   \n",
       "1023  http://timesofindia.indiatimes.com//city/noida...     4       TOI  2018   \n",
       "\n",
       "     flag  \n",
       "83      1  \n",
       "104     1  \n",
       "601     0  \n",
       "884     1  \n",
       "1023    0  "
      ]
     },
     "execution_count": 27,
     "metadata": {},
     "output_type": "execute_result"
    }
   ],
   "source": [
    "arranged_data.head()"
   ]
  },
  {
   "cell_type": "code",
   "execution_count": null,
   "metadata": {},
   "outputs": [],
   "source": []
  },
  {
   "cell_type": "markdown",
   "metadata": {},
   "source": [
    "## Feature Selection"
   ]
  },
  {
   "cell_type": "markdown",
   "metadata": {},
   "source": [
    "### Day  "
   ]
  },
  {
   "cell_type": "code",
   "execution_count": 28,
   "metadata": {},
   "outputs": [],
   "source": [
    "grp = arranged_data.groupby('day')['flag'].sum()"
   ]
  },
  {
   "cell_type": "code",
   "execution_count": 29,
   "metadata": {},
   "outputs": [
    {
     "data": {
      "text/plain": [
       "<BarContainer object of 31 artists>"
      ]
     },
     "execution_count": 29,
     "metadata": {},
     "output_type": "execute_result"
    },
    {
     "data": {
      "image/png": "[encoded data removed]",
      "text/plain": [
       "<Figure size 432x288 with 1 Axes>"
      ]
     },
     "metadata": {
      "needs_background": "light"
     },
     "output_type": "display_data"
    }
   ],
   "source": [
    "plt.bar(grp.index, grp.values)"
   ]
  },
  {
   "cell_type": "markdown",
   "metadata": {},
   "source": [
    "### Month "
   ]
  },
  {
   "cell_type": "code",
   "execution_count": 30,
   "metadata": {},
   "outputs": [],
   "source": [
    "grp = arranged_data.groupby('month')['flag'].sum()"
   ]
  },
  {
   "cell_type": "code",
   "execution_count": 31,
   "metadata": {},
   "outputs": [
    {
     "data": {
      "text/plain": [
       "<BarContainer object of 10 artists>"
      ]
     },
     "execution_count": 31,
     "metadata": {},
     "output_type": "execute_result"
    },
    {
     "data": {
      "image/png": "[encoded data removed]",
      "text/plain": [
       "<Figure size 432x288 with 1 Axes>"
      ]
     },
     "metadata": {
      "needs_background": "light"
     },
     "output_type": "display_data"
    }
   ],
   "source": [
    "plt.bar(grp.index, grp.values)"
   ]
  },
  {
   "cell_type": "code",
   "execution_count": 32,
   "metadata": {},
   "outputs": [],
   "source": [
    "data.drop('month', axis=1, inplace=True)"
   ]
  },
  {
   "cell_type": "code",
   "execution_count": null,
   "metadata": {},
   "outputs": [],
   "source": []
  },
  {
   "cell_type": "markdown",
   "metadata": {},
   "source": [
    "### Year, Publisher, date, day, link"
   ]
  },
  {
   "cell_type": "code",
   "execution_count": 33,
   "metadata": {},
   "outputs": [],
   "source": [
    "data.drop(['year','publisher','date','day','link'], axis=1, inplace=True)"
   ]
  },
  {
   "cell_type": "code",
   "execution_count": 34,
   "metadata": {},
   "outputs": [
    {
     "data": {
      "text/html": [
       "<div>\n",
       "<style scoped>\n",
       "    .dataframe tbody tr th:only-of-type {\n",
       "        vertical-align: middle;\n",
       "    }\n",
       "\n",
       "    .dataframe tbody tr th {\n",
       "        vertical-align: top;\n",
       "    }\n",
       "\n",
       "    .dataframe thead th {\n",
       "        text-align: right;\n",
       "    }\n",
       "</style>\n",
       "<table border=\"1\" class=\"dataframe\">\n",
       "  <thead>\n",
       "    <tr style=\"text-align: right;\">\n",
       "      <th></th>\n",
       "      <th>flag</th>\n",
       "      <th>Text</th>\n",
       "    </tr>\n",
       "  </thead>\n",
       "  <tbody>\n",
       "    <tr>\n",
       "      <th>83</th>\n",
       "      <td>1</td>\n",
       "      <td>Yesterday, a young man was murdered in broadli...</td>\n",
       "    </tr>\n",
       "    <tr>\n",
       "      <th>104</th>\n",
       "      <td>1</td>\n",
       "      <td>NEW DELHI: The   has set up a   for its soldie...</td>\n",
       "    </tr>\n",
       "    <tr>\n",
       "      <th>601</th>\n",
       "      <td>0</td>\n",
       "      <td>BERHAMPUR: An anti-social allegedly involved i...</td>\n",
       "    </tr>\n",
       "    <tr>\n",
       "      <th>884</th>\n",
       "      <td>1</td>\n",
       "      <td>PATNA: One Akash Kumar (19) allegedly committe...</td>\n",
       "    </tr>\n",
       "    <tr>\n",
       "      <th>1023</th>\n",
       "      <td>0</td>\n",
       "      <td>GREATER NOIDA:   being taught in universities ...</td>\n",
       "    </tr>\n",
       "  </tbody>\n",
       "</table>\n",
       "</div>"
      ],
      "text/plain": [
       "     flag                                               Text\n",
       "83      1  Yesterday, a young man was murdered in broadli...\n",
       "104     1  NEW DELHI: The   has set up a   for its soldie...\n",
       "601     0  BERHAMPUR: An anti-social allegedly involved i...\n",
       "884     1  PATNA: One Akash Kumar (19) allegedly committe...\n",
       "1023    0  GREATER NOIDA:   being taught in universities ..."
      ]
     },
     "execution_count": 34,
     "metadata": {},
     "output_type": "execute_result"
    }
   ],
   "source": [
    "data.head()"
   ]
  },
  {
   "cell_type": "markdown",
   "metadata": {},
   "source": [
    "## X-y Split"
   ]
  },
  {
   "cell_type": "code",
   "execution_count": 35,
   "metadata": {},
   "outputs": [],
   "source": [
    "X = data.iloc[:,1]\n",
    "y = data.iloc[:,0]"
   ]
  },
  {
   "cell_type": "code",
   "execution_count": 36,
   "metadata": {},
   "outputs": [
    {
     "data": {
      "text/plain": [
       "83        Yesterday, a young man was murdered in broadli...\n",
       "104       NEW DELHI: The   has set up a   for its soldie...\n",
       "601       BERHAMPUR: An anti-social allegedly involved i...\n",
       "884       PATNA: One Akash Kumar (19) allegedly committe...\n",
       "1023      GREATER NOIDA:   being taught in universities ...\n",
       "                                ...                        \n",
       "209397    MUMBAI: The   was circulated at least 20 minut...\n",
       "209459    NEW DELHI: A 35-year-old welder died when he f...\n",
       "209555    MUMBAI: A day after a youth was   in a narrow ...\n",
       "209762    Vadodara: His father made a name for himself i...\n",
       "210051    NEW DELHI: India's economic growth is expected...\n",
       "Name: Text, Length: 1805, dtype: object"
      ]
     },
     "execution_count": 36,
     "metadata": {},
     "output_type": "execute_result"
    }
   ],
   "source": [
    "X"
   ]
  },
  {
   "cell_type": "markdown",
   "metadata": {},
   "source": [
    "## Removing Stopwords"
   ]
  },
  {
   "cell_type": "code",
   "execution_count": 37,
   "metadata": {},
   "outputs": [],
   "source": [
    "REPLACE_BY_SPACE_RE = re.compile('[/(){}\\[\\]\\|@,;]')\n",
    "BAD_SYMBOLS_RE = re.compile('[^0-9a-z #+_]')\n",
    "NUM_RE = re.compile(' \\d+ ')\n",
    "STOPWORDS = set(stopwords.words('english'))\n",
    "\n",
    "def text_prepare(text):\n",
    "   \n",
    "    text = text.lower()\n",
    "    text = re.sub(REPLACE_BY_SPACE_RE, ' ', text)\n",
    "    text = re.sub(BAD_SYMBOLS_RE, '', text)\n",
    "    text = re.sub(NUM_RE, ' ', text)\n",
    "    text = [e for e in text.split(' ') if e not in STOPWORDS and e!='']\n",
    "    return text"
   ]
  },
  {
   "cell_type": "code",
   "execution_count": 38,
   "metadata": {},
   "outputs": [],
   "source": [
    "X = [text_prepare(x) for x in X] "
   ]
  },
  {
   "cell_type": "code",
   "execution_count": 39,
   "metadata": {},
   "outputs": [],
   "source": [
    "y=list(y.values)"
   ]
  },
  {
   "cell_type": "markdown",
   "metadata": {},
   "source": [
    "## Stemming"
   ]
  },
  {
   "cell_type": "code",
   "execution_count": 40,
   "metadata": {},
   "outputs": [],
   "source": [
    "stemmer = nltk.stem.WordNetLemmatizer()"
   ]
  },
  {
   "cell_type": "code",
   "execution_count": 41,
   "metadata": {},
   "outputs": [],
   "source": [
    "for i in range(len(X)):\n",
    "    \n",
    "    X[i] = [stemmer.lemmatize(e) for e in X[i]]\n",
    "        "
   ]
  },
  {
   "cell_type": "code",
   "execution_count": 42,
   "metadata": {},
   "outputs": [],
   "source": [
    "X = [' '.join(e) for e in X]"
   ]
  },
  {
   "cell_type": "markdown",
   "metadata": {},
   "source": [
    "## Train-Test Split"
   ]
  },
  {
   "cell_type": "code",
   "execution_count": 43,
   "metadata": {},
   "outputs": [],
   "source": [
    "X_train, X_test, y_train, y_test = train_test_split(X, y, test_size=0.20, random_state=1)"
   ]
  },
  {
   "cell_type": "markdown",
   "metadata": {},
   "source": [
    "## TF-IDF"
   ]
  },
  {
   "cell_type": "code",
   "execution_count": 44,
   "metadata": {},
   "outputs": [],
   "source": [
    "from sklearn.feature_extraction.text import CountVectorizer, TfidfTransformer"
   ]
  },
  {
   "cell_type": "code",
   "execution_count": 45,
   "metadata": {},
   "outputs": [
    {
     "data": {
      "text/plain": [
       "CountVectorizer()"
      ]
     },
     "execution_count": 45,
     "metadata": {},
     "output_type": "execute_result"
    }
   ],
   "source": [
    "vector = CountVectorizer()\n",
    "vector.fit(X)"
   ]
  },
  {
   "cell_type": "code",
   "execution_count": 46,
   "metadata": {},
   "outputs": [],
   "source": [
    "tf_vector = TfidfTransformer()"
   ]
  },
  {
   "cell_type": "code",
   "execution_count": 47,
   "metadata": {},
   "outputs": [],
   "source": [
    "counts = vector.transform(X_train)\n",
    "X_train = tf_vector.fit_transform(counts)"
   ]
  },
  {
   "cell_type": "code",
   "execution_count": 48,
   "metadata": {},
   "outputs": [],
   "source": [
    "counts = vector.transform(X_test)\n",
    "X_test = tf_vector.fit_transform(counts)"
   ]
  },
  {
   "cell_type": "code",
   "execution_count": 49,
   "metadata": {},
   "outputs": [],
   "source": [
    "temp = X_train[:5]"
   ]
  },
  {
   "cell_type": "code",
   "execution_count": 50,
   "metadata": {},
   "outputs": [],
   "source": [
    "X_test = X_test.toarray()"
   ]
  },
  {
   "cell_type": "code",
   "execution_count": 51,
   "metadata": {},
   "outputs": [],
   "source": [
    "X_train = X_train.toarray()"
   ]
  },
  {
   "cell_type": "markdown",
   "metadata": {},
   "source": [
    "# Naive-Bayes"
   ]
  },
  {
   "cell_type": "code",
   "execution_count": 52,
   "metadata": {},
   "outputs": [
    {
     "name": "stdout",
     "output_type": "stream",
     "text": [
      "0.8116343490304709\n"
     ]
    }
   ],
   "source": [
    "from sklearn.naive_bayes import MultinomialNB\n",
    "from sklearn.metrics import accuracy_score\n",
    "\n",
    "\n",
    "model = MultinomialNB().fit(X_train, y_train)\n",
    "pred = model.predict(X_test)\n",
    "print(accuracy_score(y_test, pred))"
   ]
  },
  {
   "cell_type": "markdown",
   "metadata": {},
   "source": [
    "## Saving the Model"
   ]
  },
  {
   "cell_type": "code",
   "execution_count": 57,
   "metadata": {},
   "outputs": [],
   "source": [
    "#with open('Fake_News_NB_Model', 'wb') as f:\n",
    "    #pickle.dump([model,vector,tf_vector], f)"
   ]
  },
  {
   "cell_type": "code",
   "execution_count": null,
   "metadata": {},
   "outputs": [],
   "source": []
  }
 ],
 "metadata": {
  "kernelspec": {
   "display_name": "Python 3",
   "language": "python",
   "name": "python3"
  },
  "language_info": {
   "codemirror_mode": {
    "name": "ipython",
    "version": 3
   },
   "file_extension": ".py",
   "mimetype": "text/x-python",
   "name": "python",
   "nbconvert_exporter": "python",
   "pygments_lexer": "ipython3",
   "version": "3.8.2"
  }
 },
 "nbformat": 4,
 "nbformat_minor": 1
}
